{
 "cells": [
  {
   "cell_type": "markdown",
   "id": "3f32b5a4",
   "metadata": {},
   "source": [
    "# Git"
   ]
  },
  {
   "cell_type": "markdown",
   "id": "bb4b3963",
   "metadata": {},
   "source": [
    "1. GitHUb\n",
    "2. GitLAb\n",
    "3. BitBucket"
   ]
  },
  {
   "cell_type": "markdown",
   "id": "00988f50",
   "metadata": {},
   "source": [
    "# Repository"
   ]
  },
  {
   "cell_type": "markdown",
   "id": "dbae0b17",
   "metadata": {},
   "source": [
    "1. Local Repository\n",
    "2. Remote Repository"
   ]
  },
  {
   "cell_type": "markdown",
   "id": "c8da8569",
   "metadata": {},
   "source": [
    "# 1. Clone Repository"
   ]
  },
  {
   "cell_type": "code",
   "execution_count": null,
   "id": "e9310b23",
   "metadata": {},
   "outputs": [],
   "source": [
    "git clone url\n",
    "git clone https://github.com/8624963381/autos_dataset.git"
   ]
  },
  {
   "cell_type": "markdown",
   "id": "fbc0b814",
   "metadata": {},
   "source": [
    "# For creating documentation/readme.md we use \"Mermaid library\" .md means mark down"
   ]
  },
  {
   "cell_type": "markdown",
   "id": "6912c53b",
   "metadata": {},
   "source": [
    "# What is cloning?\n",
    "=> To create a copy of file"
   ]
  },
  {
   "cell_type": "markdown",
   "id": "123811e4",
   "metadata": {},
   "source": [
    "# 2. git status"
   ]
  },
  {
   "cell_type": "code",
   "execution_count": null,
   "id": "a2588119",
   "metadata": {},
   "outputs": [],
   "source": [
    "git status"
   ]
  },
  {
   "cell_type": "markdown",
   "id": "a6c16f38",
   "metadata": {},
   "source": [
    "# 3 Add your files"
   ]
  },
  {
   "cell_type": "code",
   "execution_count": null,
   "id": "8892f564",
   "metadata": {},
   "outputs": [],
   "source": [
    "git add file_name\n",
    "\n",
    "git add columns_list.obj\n",
    "git add main.py\n",
    "\n",
    "#to add all files together\n",
    "git add --all"
   ]
  },
  {
   "cell_type": "markdown",
   "id": "1aeba498",
   "metadata": {},
   "source": [
    "# 4 commit your changes"
   ]
  },
  {
   "cell_type": "code",
   "execution_count": null,
   "id": "65180ecc",
   "metadata": {},
   "outputs": [],
   "source": [
    "git commit -m \"Message\"\n",
    "\n",
    "git commit -m \"Added/Deleted/Modified/Updated/Functionality\""
   ]
  },
  {
   "cell_type": "markdown",
   "id": "13bf594b",
   "metadata": {},
   "source": [
    "# 5 Git Status"
   ]
  },
  {
   "cell_type": "code",
   "execution_count": null,
   "id": "20fa964b",
   "metadata": {},
   "outputs": [],
   "source": [
    "# For checking the status"
   ]
  },
  {
   "cell_type": "markdown",
   "id": "175baa53",
   "metadata": {},
   "source": [
    "# 6 Git Push"
   ]
  },
  {
   "cell_type": "code",
   "execution_count": 1,
   "id": "3ae630aa",
   "metadata": {},
   "outputs": [],
   "source": [
    "# git push to push the file into main repository\n",
    "git push\n",
    "\n",
    "#to push the file into branch\n",
    "git push origin branch_name"
   ]
  },
  {
   "cell_type": "code",
   "execution_count": null,
   "id": "dc916662",
   "metadata": {},
   "outputs": [],
   "source": [
    "Project\n",
    "Main Branch (Leader)\n",
    "\n",
    "1. EDA (abc person)\n",
    "2. Feature Engineering (xyz)\n"
   ]
  },
  {
   "cell_type": "markdown",
   "id": "89cd99d9",
   "metadata": {},
   "source": [
    "# For Create a New Branch"
   ]
  },
  {
   "cell_type": "code",
   "execution_count": null,
   "id": "99e5d28f",
   "metadata": {},
   "outputs": [],
   "source": [
    "#To create a new branch\n",
    "git checkout -b branch name\n",
    "\n",
    "#To check the current branch\n",
    "git branch\n",
    "\n",
    "#how to push the file into the branch\n",
    "git push origin branch_name\n",
    "\n",
    "#To delete the branch\n",
    "git branch -d branch_name\n",
    "\n",
    "#To change the branch\n",
    "git checkout branch name\n",
    "\n",
    "#to switch one branch to another\n",
    "git switch branch name"
   ]
  },
  {
   "cell_type": "code",
   "execution_count": null,
   "id": "cf186e55",
   "metadata": {},
   "outputs": [],
   "source": [
    "push >> updating local to remote\n",
    "pull >> updating remote to local"
   ]
  },
  {
   "cell_type": "markdown",
   "id": "aee03ce2",
   "metadata": {},
   "source": [
    "# git pull"
   ]
  },
  {
   "cell_type": "code",
   "execution_count": null,
   "id": "82e82390",
   "metadata": {},
   "outputs": [],
   "source": [
    "# git pull is used to add the file from remote repo to local repository\n",
    "git pull\n",
    "\n",
    "# to pull the the file from main branch to any branch\n",
    "git pull origin branch_name"
   ]
  },
  {
   "cell_type": "code",
   "execution_count": null,
   "id": "694cb636",
   "metadata": {},
   "outputs": [],
   "source": []
  },
  {
   "cell_type": "code",
   "execution_count": null,
   "id": "6bf53fdf",
   "metadata": {},
   "outputs": [],
   "source": []
  },
  {
   "cell_type": "code",
   "execution_count": null,
   "id": "b10f8001",
   "metadata": {},
   "outputs": [],
   "source": []
  },
  {
   "cell_type": "code",
   "execution_count": null,
   "id": "bff29a87",
   "metadata": {},
   "outputs": [],
   "source": []
  },
  {
   "cell_type": "code",
   "execution_count": null,
   "id": "5681e500",
   "metadata": {},
   "outputs": [],
   "source": []
  },
  {
   "cell_type": "code",
   "execution_count": null,
   "id": "2de2a0a2",
   "metadata": {},
   "outputs": [],
   "source": []
  },
  {
   "cell_type": "code",
   "execution_count": null,
   "id": "6856ab52",
   "metadata": {},
   "outputs": [],
   "source": []
  },
  {
   "cell_type": "code",
   "execution_count": null,
   "id": "cf881ed7",
   "metadata": {},
   "outputs": [],
   "source": []
  }
 ],
 "metadata": {
  "kernelspec": {
   "display_name": "Python 3",
   "language": "python",
   "name": "python3"
  },
  "language_info": {
   "codemirror_mode": {
    "name": "ipython",
    "version": 3
   },
   "file_extension": ".py",
   "mimetype": "text/x-python",
   "name": "python",
   "nbconvert_exporter": "python",
   "pygments_lexer": "ipython3",
   "version": "3.8.8"
  }
 },
 "nbformat": 4,
 "nbformat_minor": 5
}
